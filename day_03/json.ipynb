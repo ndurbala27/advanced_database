{
 "cells": [
  {
   "cell_type": "code",
   "execution_count": 10,
   "id": "d7be66a4",
   "metadata": {},
   "outputs": [],
   "source": [
    "import json"
   ]
  },
  {
   "cell_type": "code",
   "execution_count": 12,
   "id": "e55275c4",
   "metadata": {},
   "outputs": [],
   "source": [
    "jstring = '{\"msg\":\"Hello world\"}'"
   ]
  },
  {
   "cell_type": "code",
   "execution_count": 13,
   "id": "14444dcf",
   "metadata": {},
   "outputs": [
    {
     "data": {
      "text/plain": [
       "'{\"msg\":\"Hello world\"}'"
      ]
     },
     "execution_count": 13,
     "metadata": {},
     "output_type": "execute_result"
    }
   ],
   "source": [
    "jstring"
   ]
  },
  {
   "cell_type": "code",
   "execution_count": 14,
   "id": "4b5be558",
   "metadata": {},
   "outputs": [],
   "source": [
    "jdata = json.loads(jstring)"
   ]
  },
  {
   "cell_type": "code",
   "execution_count": 6,
   "id": "8409effc",
   "metadata": {},
   "outputs": [
    {
     "data": {
      "text/plain": [
       "{'msg': 'Hello world'}"
      ]
     },
     "execution_count": 6,
     "metadata": {},
     "output_type": "execute_result"
    }
   ],
   "source": [
    "jdata"
   ]
  },
  {
   "cell_type": "code",
   "execution_count": 7,
   "id": "c1e01a4f",
   "metadata": {},
   "outputs": [
    {
     "data": {
      "text/plain": [
       "'Hello world'"
      ]
     },
     "execution_count": 7,
     "metadata": {},
     "output_type": "execute_result"
    }
   ],
   "source": [
    "jdata['msg']"
   ]
  },
  {
   "cell_type": "code",
   "execution_count": 8,
   "id": "eaccd6c6",
   "metadata": {},
   "outputs": [
    {
     "data": {
      "text/plain": [
       "dict"
      ]
     },
     "execution_count": 8,
     "metadata": {},
     "output_type": "execute_result"
    }
   ],
   "source": [
    "type(jdata)"
   ]
  },
  {
   "cell_type": "code",
   "execution_count": 9,
   "id": "e782eb4e",
   "metadata": {},
   "outputs": [],
   "source": [
    "person = {\"name\" : \"john\",\n",
    "        \"job\" : \"hitman\",\n",
    "        \"age\" : 60}"
   ]
  },
  {
   "cell_type": "code",
   "execution_count": 10,
   "id": "60d2889c",
   "metadata": {},
   "outputs": [
    {
     "data": {
      "text/plain": [
       "dict"
      ]
     },
     "execution_count": 10,
     "metadata": {},
     "output_type": "execute_result"
    }
   ],
   "source": [
    "type(person)"
   ]
  },
  {
   "cell_type": "code",
   "execution_count": 11,
   "id": "01a0b6b1",
   "metadata": {},
   "outputs": [],
   "source": [
    "jstring = json.dumps(person)"
   ]
  },
  {
   "cell_type": "code",
   "execution_count": 12,
   "id": "5e01cb66",
   "metadata": {},
   "outputs": [
    {
     "data": {
      "text/plain": [
       "'{\"name\": \"john\", \"job\": \"hitman\", \"age\": 60}'"
      ]
     },
     "execution_count": 12,
     "metadata": {},
     "output_type": "execute_result"
    }
   ],
   "source": [
    "jstring"
   ]
  },
  {
   "cell_type": "code",
   "execution_count": 13,
   "id": "d2fd49ec",
   "metadata": {},
   "outputs": [
    {
     "data": {
      "text/plain": [
       "str"
      ]
     },
     "execution_count": 13,
     "metadata": {},
     "output_type": "execute_result"
    }
   ],
   "source": [
    "type(jstring)"
   ]
  },
  {
   "cell_type": "code",
   "execution_count": 16,
   "id": "ed62bfdb",
   "metadata": {},
   "outputs": [],
   "source": [
    "jdata = json.loads(jstring)"
   ]
  },
  {
   "cell_type": "code",
   "execution_count": 18,
   "id": "12fecada",
   "metadata": {},
   "outputs": [],
   "source": [
    "with open(\"my_json.json\", 'w') as mj:\n",
    "    json.dump(jdata, mj)"
   ]
  },
  {
   "cell_type": "code",
   "execution_count": 22,
   "metadata": {},
   "outputs": [
    {
     "name": "stdout",
     "output_type": "stream",
     "text": [
      "{'name': 'john', 'job': 'hitman', 'age': 66}\n"
     ]
    }
   ],
   "source": [
    "with open(\"my_json.json\", 'r') as mj:\n",
    "    jstring = json.load(mj)\n",
    "    print(jstring)"
   ]
  },
  {
   "cell_type": "code",
   "execution_count": 24,
   "id": "a6268739",
   "metadata": {},
   "outputs": [
    {
     "data": {
      "text/plain": [
       "dict"
      ]
     },
     "execution_count": 24,
     "metadata": {},
     "output_type": "execute_result"
    }
   ],
   "source": [
    "type(jstring)"
   ]
  },
  {
   "cell_type": "code",
   "execution_count": null,
   "id": "6eff1e25",
   "metadata": {},
   "outputs": [],
   "source": []
  }
 ],
 "metadata": {
  "kernelspec": {
   "display_name": "Python 3",
   "language": "python",
   "name": "python3"
  },
  "language_info": {
   "codemirror_mode": {
    "name": "ipython",
    "version": 3
   },
   "file_extension": ".py",
   "mimetype": "text/x-python",
   "name": "python",
   "nbconvert_exporter": "python",
   "pygments_lexer": "ipython3",
   "version": "3.12.3"
  }
 },
 "nbformat": 4,
 "nbformat_minor": 5
}
