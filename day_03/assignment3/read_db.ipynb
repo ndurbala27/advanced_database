{
 "cells": [
  {
   "cell_type": "code",
   "execution_count": null,
   "id": "34f6db51",
   "metadata": {},
   "outputs": [],
   "source": [
    "import sqlite3"
   ]
  },
  {
   "cell_type": "code",
   "execution_count": null,
   "id": "7085b688",
   "metadata": {},
   "outputs": [],
   "source": [
    "db_file = \"acme.db\"  # Change to your actual DB path\n",
    "connection = sqlite3.connect(db_file)\n",
    "curr = connection.cursor()\n",
    "print(f\"Connected to {db_file} . . .\")"
   ]
  },
  {
   "cell_type": "code",
   "execution_count": null,
   "id": "b290851d",
   "metadata": {},
   "outputs": [],
   "source": [
    "def query_database():\n",
    "    \"\"\"output list of tables from database for user to select\"\"\"\n",
    "    curr.execute(\"SELECT name FROM sqlite_master WHERE type='table';\")\n",
    "    result_set = curr.fetchall()\n",
    "\n",
    "    print(f\"{'TABLES':-^26}\")\n",
    "    for table in result_set:\n",
    "        print(table[0])"
   ]
  },
  {
   "cell_type": "code",
   "execution_count": null,
   "id": "3d8455e1",
   "metadata": {},
   "outputs": [],
   "source": [
    "def query_table(name):\n",
    "    \"\"\"query table selected by user, and convert all data points (dp) to string,\n",
    "     and return clean column names, and data set for presentation\"\"\"\n",
    "    \n",
    "    curr.execute(f\"SELECT * FROM {name};\")\n",
    "    table_set = curr.fetchall()\n",
    "\n",
    "    curr.execute(f\"PRAGMA table_info({name});\")\n",
    "    query = curr.fetchall()\n",
    "\n",
    "    column_names = []\n",
    "    for col in query:\n",
    "        column_names.append(col[1])\n",
    "\n",
    "    data_set = []\n",
    "    for row_set in table_set:\n",
    "        row_data = []\n",
    "        for dp in row_set:\n",
    "            if type(dp) is int:\n",
    "                row_data.append((str(dp)))\n",
    "            elif type(dp) is float:\n",
    "                row_data.append(f\"{dp:.2f}\")\n",
    "            else:\n",
    "                row_data.append(dp)\n",
    "        data_set.append(row_data)\n",
    "    \n",
    "    return column_names, data_set"
   ]
  },
  {
   "cell_type": "code",
   "execution_count": null,
   "id": "981749d7",
   "metadata": {},
   "outputs": [],
   "source": [
    "def ouput_table_data(name):\n",
    "\n",
    "    columns, data_set = query_table(name)\n",
    "\n",
    "    print(f\"Table: {name.title()}\")\n",
    "\n",
    "    column_header = \"\".join([f\"{column.upper():<20}\" for column in columns])\n",
    "    print(column_header)\n",
    "    print(\"-\"*len(column_header))\n",
    "\n",
    "    for row in data_set:\n",
    "        print(\"\".join([f\"{value.title():<20}\" for value in row]))"
   ]
  },
  {
   "cell_type": "code",
   "execution_count": 221,
   "id": "0a9ce5e1",
   "metadata": {},
   "outputs": [
    {
     "name": "stdout",
     "output_type": "stream",
     "text": [
      "----------TABLES----------\n",
      "customers\n",
      "food\n",
      "inventory\n",
      "employees\n",
      "fleet\n"
     ]
    }
   ],
   "source": [
    "query_database()"
   ]
  },
  {
   "cell_type": "code",
   "execution_count": null,
   "id": "55dc8b80",
   "metadata": {},
   "outputs": [],
   "source": [
    "# Prompt the user to select a table name\n",
    "table_name = input(\"\\nEnter table name from list above: \")\n",
    "\n",
    "ouput_table_data(table_name)"
   ]
  }
 ],
 "metadata": {
  "kernelspec": {
   "display_name": "Python 3",
   "language": "python",
   "name": "python3"
  },
  "language_info": {
   "codemirror_mode": {
    "name": "ipython",
    "version": 3
   },
   "file_extension": ".py",
   "mimetype": "text/x-python",
   "name": "python",
   "nbconvert_exporter": "python",
   "pygments_lexer": "ipython3",
   "version": "3.12.3"
  }
 },
 "nbformat": 4,
 "nbformat_minor": 5
}
