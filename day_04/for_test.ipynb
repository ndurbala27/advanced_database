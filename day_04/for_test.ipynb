{
 "cells": [
  {
   "cell_type": "code",
   "execution_count": null,
   "id": "91645877",
   "metadata": {},
   "outputs": [],
   "source": [
    "import sqlite3 as sql\n",
    "import json\n",
    "from pprint import pprint as pprint\n",
    "\n",
    "with sql.connect(\"acme.db\") as conn:\n",
    "    cursor = conn.cursor()"
   ]
  },
  {
   "cell_type": "code",
   "execution_count": null,
   "id": "20182224",
   "metadata": {},
   "outputs": [],
   "source": [
    "def export_table_to_json(conn, table_name):\n",
    "    cursor = conn.cursor()\n",
    "\n",
    "    # Get column names from the table\n",
    "    cursor.execute(f\"PRAGMA table_info({table_name})\")\n",
    "    # col[1] is the column name\n",
    "    columns = [col[1] for col in cursor.fetchall()]  \n",
    "\n",
    "    # Fetch all data from the table\n",
    "    cursor.execute(f\"SELECT * FROM {table_name}\")\n",
    "    rows = cursor.fetchall()\n",
    "\n",
    "    # Construct list of row dictionaries\n",
    "    table_data = []\n",
    "    for row in rows:\n",
    "        row_dict = {columns[i]: row[i] for i in range(len(columns))}\n",
    "        table_data.append(row_dict)\n",
    "\n",
    "    # Wrap with table name\n",
    "    table_dict = {table_name: table_data}\n",
    "\n",
    "    # Dump to JSON\n",
    "    with open(f\"{table_name}.json\", \"w\") as f:\n",
    "        json.dump(table_dict, f, indent=4)\n",
    "\n",
    "    print(f\"Exported {table_name} to {table_name}.json\")\n"
   ]
  },
  {
   "cell_type": "code",
   "execution_count": null,
   "id": "b922403d",
   "metadata": {},
   "outputs": [],
   "source": [
    "export_table_to_json(conn, \"customers\")"
   ]
  },
  {
   "cell_type": "code",
   "execution_count": null,
   "id": "16cf7f82",
   "metadata": {},
   "outputs": [],
   "source": [
    "import json\n",
    "\n",
    "def display_json_pretty(filename):\n",
    "    with open(filename, \"r\") as f:\n",
    "        data = json.load(f)\n",
    "\n",
    "    # Pretty-print the JSON data to console\n",
    "    print(json.dumps(data, indent=4))"
   ]
  },
  {
   "cell_type": "code",
   "execution_count": null,
   "id": "552ad62a",
   "metadata": {},
   "outputs": [],
   "source": [
    "display_json_pretty(\"customers.json\")"
   ]
  },
  {
   "cell_type": "code",
   "execution_count": 16,
   "id": "8bc661d3",
   "metadata": {},
   "outputs": [],
   "source": [
    "import xml.etree.ElementTree as ET\n",
    "\n",
    "def display_xml_recursive(element, level=0):\n",
    "    indent = \"  \" * level  # 2 spaces per level for indentation\n",
    "    print(f\"{indent}Tag       : {element.tag}\")\n",
    "    print(f\"{indent}Attributes: {element.attrib}\")\n",
    "    print()\n",
    "\n",
    "    for child in element:\n",
    "        display_xml_recursive(child, level + 1)\n",
    "\n",
    "def display_full_xml_structure(filename):\n",
    "    try:\n",
    "        tree = ET.parse(filename)\n",
    "        root = tree.getroot()\n",
    "\n",
    "        print(\"XML Structure:\\n\" + \"-\" * 40)\n",
    "        display_xml_recursive(root)\n",
    "\n",
    "    except ET.ParseError:\n",
    "        print(f\"Error: '{filename}' is not a well-formed XML file.\")\n",
    "    except FileNotFoundError:\n",
    "        print(f\"Error: File '{filename}' not found.\")\n"
   ]
  },
  {
   "cell_type": "code",
   "execution_count": 17,
   "id": "ebe9c3a9",
   "metadata": {},
   "outputs": [
    {
     "name": "stdout",
     "output_type": "stream",
     "text": [
      "Root Tag       : data\n",
      "Root Attributes: {}\n",
      "----------------------------------------\n",
      "Child Elements:\n",
      "  Child 1:\n",
      "    Tag       : country\n",
      "    Attributes: {'name': 'Liechtenstein'}\n",
      "----------------------------------------\n",
      "  Child 2:\n",
      "    Tag       : country\n",
      "    Attributes: {'name': 'Singapore'}\n",
      "----------------------------------------\n",
      "  Child 3:\n",
      "    Tag       : country\n",
      "    Attributes: {'name': 'Panama'}\n",
      "----------------------------------------\n"
     ]
    }
   ],
   "source": [
    "display_xml_structure(\"country_data.xml\")"
   ]
  },
  {
   "cell_type": "code",
   "execution_count": null,
   "id": "434d01c3",
   "metadata": {},
   "outputs": [],
   "source": []
  }
 ],
 "metadata": {
  "kernelspec": {
   "display_name": "Python 3",
   "language": "python",
   "name": "python3"
  },
  "language_info": {
   "codemirror_mode": {
    "name": "ipython",
    "version": 3
   },
   "file_extension": ".py",
   "mimetype": "text/x-python",
   "name": "python",
   "nbconvert_exporter": "python",
   "pygments_lexer": "ipython3",
   "version": "3.12.3"
  }
 },
 "nbformat": 4,
 "nbformat_minor": 5
}
