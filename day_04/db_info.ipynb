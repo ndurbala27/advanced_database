{
 "cells": [
  {
   "cell_type": "code",
   "execution_count": null,
   "id": "436add96",
   "metadata": {},
   "outputs": [],
   "source": [
    "import sqlite3 as sql\n",
    "from pprint import pprint as pprint\n",
    "\n",
    "with sql.connect(\"acme.db\") as conn:\n",
    "    curr = conn.cursor()\n",
    "\n",
    "tables = curr.execute(\"SELECT tbl_name, sql FROM sqlite_master WHERE type='table'\").fetchall()\n",
    "\n",
    "print(len(tables))"
   ]
  },
  {
   "cell_type": "code",
   "execution_count": null,
   "id": "55fc4b02",
   "metadata": {},
   "outputs": [],
   "source": [
    "print(type(tables))"
   ]
  },
  {
   "cell_type": "code",
   "execution_count": null,
   "id": "57ead329",
   "metadata": {},
   "outputs": [],
   "source": [
    "pprint(tables)"
   ]
  },
  {
   "cell_type": "code",
   "execution_count": null,
   "id": "e2edb475",
   "metadata": {},
   "outputs": [],
   "source": [
    "print(tables[0])"
   ]
  },
  {
   "cell_type": "code",
   "execution_count": null,
   "id": "a0354f0a",
   "metadata": {},
   "outputs": [],
   "source": [
    "print(type(tables[0]))"
   ]
  },
  {
   "cell_type": "code",
   "execution_count": null,
   "id": "26c041e4",
   "metadata": {},
   "outputs": [],
   "source": [
    "print(len(tables[0]))"
   ]
  },
  {
   "cell_type": "code",
   "execution_count": null,
   "id": "5917e56f",
   "metadata": {},
   "outputs": [],
   "source": [
    "print(tables[0][0])"
   ]
  },
  {
   "cell_type": "code",
   "execution_count": null,
   "id": "06b8608c",
   "metadata": {},
   "outputs": [],
   "source": [
    "print(tables[0][1])"
   ]
  },
  {
   "cell_type": "code",
   "execution_count": null,
   "id": "b93127be",
   "metadata": {},
   "outputs": [],
   "source": [
    "print(type(tables[0][1]))"
   ]
  },
  {
   "cell_type": "code",
   "execution_count": null,
   "id": "7100766b",
   "metadata": {},
   "outputs": [],
   "source": [
    "print(len(tables[0][1]))"
   ]
  },
  {
   "cell_type": "code",
   "execution_count": null,
   "id": "4aa42196",
   "metadata": {},
   "outputs": [],
   "source": [
    "start = tables[0][1].find(\"(\")+1\n",
    "start"
   ]
  },
  {
   "cell_type": "code",
   "execution_count": null,
   "id": "48ac935c",
   "metadata": {},
   "outputs": [],
   "source": [
    "stop = tables[0][1].find(\")\")\n",
    "stop"
   ]
  },
  {
   "cell_type": "code",
   "execution_count": null,
   "id": "a6d004b1",
   "metadata": {},
   "outputs": [],
   "source": [
    "tables[0][1][start:stop]"
   ]
  },
  {
   "cell_type": "code",
   "execution_count": null,
   "id": "561c526c",
   "metadata": {},
   "outputs": [],
   "source": [
    "columns = tables[0][1][start:stop].replace(\"\\n\", \"\").replace(\"\\t\", \"\").replace('\"', \"\").split(\",\")"
   ]
  },
  {
   "cell_type": "code",
   "execution_count": null,
   "id": "8567f637",
   "metadata": {},
   "outputs": [],
   "source": [
    "print([col.strip() for col in columns])"
   ]
  }
 ],
 "metadata": {
  "kernelspec": {
   "display_name": "Python 3",
   "language": "python",
   "name": "python3"
  },
  "language_info": {
   "codemirror_mode": {
    "name": "ipython",
    "version": 3
   },
   "file_extension": ".py",
   "mimetype": "text/x-python",
   "name": "python",
   "nbconvert_exporter": "python",
   "pygments_lexer": "ipython3",
   "version": "3.12.3"
  }
 },
 "nbformat": 4,
 "nbformat_minor": 5
}
