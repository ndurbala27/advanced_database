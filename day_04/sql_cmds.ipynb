{
 "cells": [
  {
   "cell_type": "code",
   "execution_count": 49,
   "id": "84fbd02f",
   "metadata": {},
   "outputs": [
    {
     "name": "stdout",
     "output_type": "stream",
     "text": [
      "Elmer Fudd drives a Nissan Titan\n",
      "Marvin Martian drives a Ram 1500\n"
     ]
    }
   ],
   "source": [
    "import sqlite3 as sql\n",
    "import json\n",
    "from pprint import pprint as pprint\n",
    "\n",
    "with sql.connect(\"acme.db\") as conn:\n",
    "    curr = conn.cursor()\n",
    "\n",
    "employees = curr.execute(\n",
    "    \"\"\" \n",
    "    SELECT fname, lname, make, model\n",
    "    FROM employees, fleet\n",
    "    WHERE employees.car = fleet.vin;\n",
    "    \"\"\"\n",
    ")\n",
    "\n",
    "# pprint(employees.description)\n",
    "\n",
    "for row in employees:\n",
    "     print(f\"{row[0].title()} {row[1].title()} drives a {row[2].title()} {row[3].title()}\")"
   ]
  },
  {
   "cell_type": "code",
   "execution_count": null,
   "id": "c5401a96",
   "metadata": {},
   "outputs": [],
   "source": [
    "# food = curr.execute(\n",
    "#     \"\"\" \n",
    "#     SELECT combo, main, side, drink, price\n",
    "#     FROM food\n",
    "#     WHERE price < 6;\n",
    "#     \"\"\"\n",
    "# )\n",
    "\n",
    "# inventory = curr.execute(\n",
    "#     \"\"\" \n",
    "#     SELECT lname, desc\n",
    "#     FROM customers, inventory\n",
    "#     WHERE customers.items = inventory.upc;\n",
    "#     \"\"\"\n",
    "# )"
   ]
  },
  {
   "cell_type": "code",
   "execution_count": null,
   "id": "2f1494b7",
   "metadata": {},
   "outputs": [],
   "source": [
    "\n",
    "conn = sql. connect (\"acme.db\" )\n",
    "curr = conn.cursor()\n",
    "emps = curr.execute(\"\"\"SELECT fname, lname, make, model\n",
    "                        FROM employees, fleet\n",
    "                        WHERE employees.car=fleet.vin\n",
    "                        \"\"\")\n",
    "emplist = []\n",
    "for emp in emps:\n",
    "    empd = {\"Employee\" : f\"{emp[0]} {emp[1]}\",\n",
    "            \"Make\" : emp[2],\n",
    "            \"Model\" : emp [3]\n",
    "            }\n",
    "    emplist.append(empd)\n",
    "for dct in emplist:\n",
    "    for k, v in dct.items():\n",
    "        print(f\"{k.title()}: {v.title()}\")"
   ]
  },
  {
   "cell_type": "code",
   "execution_count": null,
   "id": "0492afd4",
   "metadata": {},
   "outputs": [],
   "source": [
    "fname, lname, make, model = 0, 1, 2, 3\n",
    "for data in empdict.values():\n",
    "    #print(f\"{data[fname].title()} {data[lname].title()} drives a {data[make].title()} {data[model].title()}\")\n",
    "    print(data)"
   ]
  },
  {
   "cell_type": "code",
   "execution_count": null,
   "id": "97710395",
   "metadata": {},
   "outputs": [],
   "source": [
    "fooddict = {}\n",
    "for num, row in enumerate(food, start=1):\n",
    "    fooddict[\"row\"+str(num)] = row\n",
    "fooddict"
   ]
  },
  {
   "cell_type": "code",
   "execution_count": null,
   "id": "24f95e00",
   "metadata": {},
   "outputs": [],
   "source": [
    "combo, main, side, drink, price = 0, 1, 2, 3, 4\n",
    "print(\"Food that cost less than $6\")\n",
    "for data in fooddict.values():\n",
    "    print(f\"Combo #{data[combo]} is a {data[main]} that comes with {data[side]} and a {data[drink]} and cost ${data[price]:.2f}\")"
   ]
  },
  {
   "cell_type": "code",
   "execution_count": null,
   "id": "b07b0700",
   "metadata": {},
   "outputs": [],
   "source": [
    "lname, desc = 0, 1\n",
    "invdict = {}\n",
    "for num, row in enumerate(inventory, start=1):\n",
    "    invdict[\"row\"+str(num)] = row\n",
    "invdict"
   ]
  },
  {
   "cell_type": "code",
   "execution_count": null,
   "id": "e88b7e26",
   "metadata": {},
   "outputs": [],
   "source": [
    "print(\"These customers bought these items\")\n",
    "for data in invdict.values():\n",
    "    print(f\"{data[lname].title()} bought {data[desc]}\")"
   ]
  },
  {
   "cell_type": "code",
   "execution_count": null,
   "id": "9e85789a",
   "metadata": {},
   "outputs": [],
   "source": []
  }
 ],
 "metadata": {
  "kernelspec": {
   "display_name": "Python 3",
   "language": "python",
   "name": "python3"
  },
  "language_info": {
   "codemirror_mode": {
    "name": "ipython",
    "version": 3
   },
   "file_extension": ".py",
   "mimetype": "text/x-python",
   "name": "python",
   "nbconvert_exporter": "python",
   "pygments_lexer": "ipython3",
   "version": "3.12.3"
  }
 },
 "nbformat": 4,
 "nbformat_minor": 5
}
